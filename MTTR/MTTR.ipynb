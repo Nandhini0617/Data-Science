{
 "cells": [
  {
   "cell_type": "markdown",
   "id": "3c378857-e682-4f17-be0e-7407f0a7962c",
   "metadata": {},
   "source": [
    "##  MTTR Analysis\n",
    "### Importing required Libraries"
   ]
  },
  {
   "cell_type": "code",
   "execution_count": 124,
   "id": "e27bd6a7-065f-4519-aca8-ae6248bf1ad2",
   "metadata": {},
   "outputs": [],
   "source": [
    "import numpy as np\n",
    "import pandas as pd\n",
    "import matplotlib.pyplot as plt\n",
    "%matplotlib inline\n",
    "import seaborn as sns"
   ]
  },
  {
   "cell_type": "markdown",
   "id": "177692fb-6c65-4e00-aea9-454d61fad2c7",
   "metadata": {},
   "source": [
    "#### Exporting the dataset"
   ]
  },
  {
   "cell_type": "code",
   "execution_count": 79,
   "id": "d808154a-96cb-4dc3-8801-0a34ecf234c1",
   "metadata": {},
   "outputs": [],
   "source": [
    "base = 'C://Users//n0r043t//Downloads//incident_sla.csv'\n",
    "df = pd.read_csv(base,header = 0)"
   ]
  },
  {
   "cell_type": "code",
   "execution_count": 83,
   "id": "afbc931b-a096-4145-ad53-52609e1eba12",
   "metadata": {},
   "outputs": [
    {
     "data": {
      "text/plain": [
       "(72, 9)"
      ]
     },
     "execution_count": 83,
     "metadata": {},
     "output_type": "execute_result"
    }
   ],
   "source": [
    "df.shape"
   ]
  },
  {
   "cell_type": "markdown",
   "id": "d257a119-0d65-41b2-b7cb-f3c646e44456",
   "metadata": {},
   "source": [
    "#### Sorting the Dataframe"
   ]
  },
  {
   "cell_type": "code",
   "execution_count": 86,
   "id": "3ef4c3ca-b877-4e8e-89d6-d09e875a71c0",
   "metadata": {},
   "outputs": [],
   "source": [
    "df = df.sort_values(by='taskslatable_end_time', ascending=False)"
   ]
  },
  {
   "cell_type": "markdown",
   "id": "f571f795-19e9-462b-9fed-5c2593b3f4dc",
   "metadata": {},
   "source": [
    "#### Renaming the columns to match with the comparing dataset"
   ]
  },
  {
   "cell_type": "code",
   "execution_count": 89,
   "id": "f697656d-230e-4010-b02d-0d49aa0b4a4b",
   "metadata": {},
   "outputs": [],
   "source": [
    "df = df.rename(columns={'inc_number': 'Number'})"
   ]
  },
  {
   "cell_type": "code",
   "execution_count": 93,
   "id": "3114a775-a730-4150-b087-cbb0f4f0b680",
   "metadata": {},
   "outputs": [],
   "source": [
    "df = df.drop_duplicates(subset=None, keep='first', inplace=False)"
   ]
  },
  {
   "cell_type": "markdown",
   "id": "f4da27bb-93e3-4881-9e09-4115fe22991c",
   "metadata": {},
   "source": [
    "#### Loading the base dataset which needs to be compared. And extarcting only the columns required"
   ]
  },
  {
   "cell_type": "code",
   "execution_count": 95,
   "id": "7e952689-ef4d-4a42-a382-9ab667182c80",
   "metadata": {},
   "outputs": [],
   "source": [
    "Incident_metric = 'C://Users//n0r043t//Downloads//incident_metric_w43.xlsx'\n",
    "df1 = pd.read_excel(Incident_metric,sheet_name='Base',header = 0)"
   ]
  },
  {
   "cell_type": "code",
   "execution_count": 99,
   "id": "653b220d-e4ed-42b8-b572-4ad0b28f7bab",
   "metadata": {},
   "outputs": [],
   "source": [
    "df_filtered = df1[['Number','AppName','Task assigned to' ]]"
   ]
  },
  {
   "cell_type": "markdown",
   "id": "42cbff14-aa98-4329-91e3-e3cf233f7cc6",
   "metadata": {},
   "source": [
    "#### Merging of the dataframes to single dataframe"
   ]
  },
  {
   "cell_type": "code",
   "execution_count": 103,
   "id": "9bd47dc6-6465-41bd-a607-93d450d0de28",
   "metadata": {},
   "outputs": [],
   "source": [
    "result = df.merge(df_filtered, on='Number', how='left')"
   ]
  },
  {
   "cell_type": "markdown",
   "id": "d8d93792-fd75-4345-b0d6-e83a7006650d",
   "metadata": {},
   "source": [
    "#### Converting new column named Hours to get the duration in hours."
   ]
  },
  {
   "cell_type": "code",
   "execution_count": 144,
   "id": "62204da8-ef8d-41f3-8cbd-cec1cdd6d9c0",
   "metadata": {},
   "outputs": [],
   "source": [
    "result['Hours'] = result['taskslatable_duration'] /60/60\n"
   ]
  },
  {
   "cell_type": "markdown",
   "id": "cd5a29f4-df04-4939-b53e-69a207f0cf5f",
   "metadata": {},
   "source": [
    "#### Transforming the dataframe to excels and creating the pviot table"
   ]
  },
  {
   "cell_type": "code",
   "execution_count": 114,
   "id": "e947b9a9-1cd0-4d01-b4ef-15161428cb02",
   "metadata": {},
   "outputs": [],
   "source": [
    "result.to_excel('C://Users//n0r043t//Desktop//DRS//MTTR.xlsx',sheet_name='MTTR')"
   ]
  },
  {
   "cell_type": "code",
   "execution_count": 119,
   "id": "850b9a47-a92b-4969-9028-d2efa535ff20",
   "metadata": {},
   "outputs": [],
   "source": [
    "pivot_table = result.pivot_table(\n",
    "    values=['Number', 'Hours'],  # Specify columns to aggregate\n",
    "    index='AppName',       # Group by Department\n",
    "    aggfunc={'Number': 'count', 'Hours': 'sum'}  # Aggregation functions\n",
    ")"
   ]
  },
  {
   "cell_type": "code",
   "execution_count": 121,
   "id": "5c097730-a95b-4149-b9a9-5f5968e9b126",
   "metadata": {},
   "outputs": [
    {
     "data": {
      "text/html": [
       "<div>\n",
       "<style scoped>\n",
       "    .dataframe tbody tr th:only-of-type {\n",
       "        vertical-align: middle;\n",
       "    }\n",
       "\n",
       "    .dataframe tbody tr th {\n",
       "        vertical-align: top;\n",
       "    }\n",
       "\n",
       "    .dataframe thead th {\n",
       "        text-align: right;\n",
       "    }\n",
       "</style>\n",
       "<table border=\"1\" class=\"dataframe\">\n",
       "  <thead>\n",
       "    <tr style=\"text-align: right;\">\n",
       "      <th></th>\n",
       "      <th>Hours</th>\n",
       "      <th>Number</th>\n",
       "      <th>MTTR</th>\n",
       "    </tr>\n",
       "    <tr>\n",
       "      <th>AppName</th>\n",
       "      <th></th>\n",
       "      <th></th>\n",
       "      <th></th>\n",
       "    </tr>\n",
       "  </thead>\n",
       "  <tbody>\n",
       "    <tr>\n",
       "      <th>ACC</th>\n",
       "      <td>689.202778</td>\n",
       "      <td>19</td>\n",
       "      <td>36.273830</td>\n",
       "    </tr>\n",
       "    <tr>\n",
       "      <th>Bakery</th>\n",
       "      <td>211.280556</td>\n",
       "      <td>4</td>\n",
       "      <td>52.820139</td>\n",
       "    </tr>\n",
       "    <tr>\n",
       "      <th>Firearms</th>\n",
       "      <td>243.721389</td>\n",
       "      <td>17</td>\n",
       "      <td>14.336552</td>\n",
       "    </tr>\n",
       "    <tr>\n",
       "      <th>Kiosk</th>\n",
       "      <td>133.458611</td>\n",
       "      <td>4</td>\n",
       "      <td>33.364653</td>\n",
       "    </tr>\n",
       "    <tr>\n",
       "      <th>MisQ</th>\n",
       "      <td>74.254167</td>\n",
       "      <td>1</td>\n",
       "      <td>74.254167</td>\n",
       "    </tr>\n",
       "  </tbody>\n",
       "</table>\n",
       "</div>"
      ],
      "text/plain": [
       "               Hours  Number       MTTR\n",
       "AppName                                \n",
       "ACC       689.202778      19  36.273830\n",
       "Bakery    211.280556       4  52.820139\n",
       "Firearms  243.721389      17  14.336552\n",
       "Kiosk     133.458611       4  33.364653\n",
       "MisQ       74.254167       1  74.254167"
      ]
     },
     "execution_count": 121,
     "metadata": {},
     "output_type": "execute_result"
    }
   ],
   "source": [
    "pivot_table['MTTR'] = pivot_table['Hours'] /pivot_table['Number']\n",
    "pivot_table.head()"
   ]
  },
  {
   "cell_type": "code",
   "execution_count": 215,
   "id": "109bdd1f-c73e-45c1-9778-5a11be203d28",
   "metadata": {},
   "outputs": [],
   "source": [
    "pivot_table.to_excel('C://Users//n0r043t//Desktop//DRS//MTTR.xlsx',sheet_name='Cal')"
   ]
  },
  {
   "cell_type": "markdown",
   "id": "d01676da-ef3b-448b-a536-3d2de467365c",
   "metadata": {},
   "source": [
    "#### Creating the line chart with the MTTR for different applications"
   ]
  },
  {
   "cell_type": "code",
   "execution_count": 139,
   "id": "3efa1e63-f2ab-41f8-a961-73f9655c7042",
   "metadata": {},
   "outputs": [
    {
     "data": {
      "text/plain": [
       "Text(0.5, 1.0, 'MTTR - Analysis')"
      ]
     },
     "execution_count": 139,
     "metadata": {},
     "output_type": "execute_result"
    },
    {
     "data": {
      "image/png": "[encoded data removed]",
      "text/plain": [
       "<Figure size 1000x400 with 1 Axes>"
      ]
     },
     "metadata": {},
     "output_type": "display_data"
    }
   ],
   "source": [
    "plt.figure(figsize=(10, 4))\n",
    "sns.lineplot(data=pivot_table, x='AppName', y='MTTR')\n",
    "plt.xlabel(\"Application Name\")\n",
    "plt.ylabel(\"MTTR in Hours\")\n",
    "plt.title(\"MTTR - Analysis\")"
   ]
  },
  {
   "cell_type": "markdown",
   "id": "2c5fcd42-5c69-4119-8013-b461eacd46f7",
   "metadata": {},
   "source": [
    "### Conclusion\n",
    "##### From the above we can conclude the time taken to resolve MISQ which is misqueue incident is very high.Team needs to work with croofunactional team to identify the barrier and rectify the issue."
   ]
  }
 ],
 "metadata": {
  "kernelspec": {
   "display_name": "Python 3",
   "language": "python",
   "name": "python3"
  },
  "language_info": {
   "codemirror_mode": {
    "name": "ipython",
    "version": 3
   },
   "file_extension": ".py",
   "mimetype": "text/x-python",
   "name": "python",
   "nbconvert_exporter": "python",
   "pygments_lexer": "ipython3",
   "version": "3.12.4"
  }
 },
 "nbformat": 4,
 "nbformat_minor": 5
}
